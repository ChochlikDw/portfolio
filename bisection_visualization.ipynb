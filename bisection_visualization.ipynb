{
 "cells": [
  {
   "cell_type": "code",
   "execution_count": 1,
   "metadata": {
    "scrolled": true
   },
   "outputs": [],
   "source": [
    "from ipywidgets import interactive, fixed, IntSlider\n",
    "from IPython.display import display\n",
    "import matplotlib.pyplot as plt\n",
    "import numpy as np\n",
    "\n",
    "\n",
    "__author__ = \"Jakub Dworzański\"\n",
    "\n",
    "\n",
    "def interactive_bisection(f, a, b):\n",
    "    \"\"\"Displays steps of the bisection alghorithm for a given function.\n",
    "\n",
    "    Args:\n",
    "        f (function): Tested function.\n",
    "        a (float): Left endpoint of interval.\n",
    "        b (float): Right endpoint of interval.\n",
    "        \"\"\"\n",
    "\n",
    "    def plot(f, a, b, c='C0', lw=2.0, alpha=1.0):\n",
    "        \"\"\"Draws a given function on the interval [a, b].\n",
    "\n",
    "        Args:\n",
    "            f (function): Tested function.\n",
    "            a (float): Left endpoint of interval.\n",
    "            b (float): Right endpoint of interval.\n",
    "            c (str, optional): Color corresponding to matplotlib.colors.\n",
    "                Defaults to'C0'.\n",
    "            lw (float, optional): Line width greater than 0. Defaults to 2.0\n",
    "            alpha (float): Transparency between 0.0 and 1.0. Defaults to 1.0\"\"\"\n",
    "        x = np.linspace(a, b, 100000)\n",
    "        y = np.vectorize(f)(x)\n",
    "        plt.plot(x, y, c=c, lw=lw, alpha=alpha)\n",
    "        return y.min(), y.max()\n",
    "\n",
    "    def title(n):\n",
    "        if n == 0:\n",
    "            return \"Przedział przed rozpoczęciem algorytmu bisekcji\"\n",
    "        napis = \"Wizualizacja metody bisekcji po {n} \".format(n=n)\n",
    "        if n == 1:\n",
    "            return \"\".join((napis, \"kroku\"))\n",
    "        return \"\".join((napis, \"krokach\"))\n",
    "\n",
    "    def bisection(f, a, b, n=52):\n",
    "        if a > b:\n",
    "            print('err: a > b')\n",
    "            return None\n",
    "        if f(a) * f(b) > 0:\n",
    "            print('err: f(a)*f(b) > 0')\n",
    "            return None\n",
    "        c = (a + b) / 2\n",
    "        for i in range(n):\n",
    "            f_a = f(a)\n",
    "            f_b = f(b)\n",
    "            f_c = f(c)\n",
    "            if f_a*f_c > 0:\n",
    "                a = c\n",
    "            else:\n",
    "                b = c\n",
    "            c = (a + b) / 2\n",
    "        return c, a, b\n",
    "\n",
    "    def draw(f, a, b, n):\n",
    "        \"\"\"Draws bisection after n steps.\n",
    "\n",
    "        Args:\n",
    "            f (function): Tested function.\n",
    "            a (float): Left endpoint of interval.\n",
    "            b (float): Right endpoint of interval.\n",
    "            n (int): Number of made steps\"\"\"\n",
    "        if a > b:\n",
    "            print('err: a > b')\n",
    "            return None\n",
    "        if f(a) * f(b) > 0:\n",
    "            print('err: f(a)*f(b) > 0')\n",
    "            return None\n",
    "        _, a1, b1 = bisection(f, a, b, n-1)\n",
    "        if n == 0:\n",
    "            temp = 0\n",
    "        else:\n",
    "            temp = 1\n",
    "        c, a2, b2 = bisection(f, a1, b1, temp)\n",
    "        f_min, f_max = plot(f, a1, b1, 'black')\n",
    "        plot(lambda x: 0, a, b, 'red')\n",
    "        plt.title(title(n))\n",
    "        plt.xlabel(\"Oś x\")\n",
    "        plt.ylabel(\"Oś y\")\n",
    "        plt.stem([a2, c, b2],\n",
    "                 [f(a2), f(c), f(b2)],\n",
    "                 'b--',\n",
    "                 markerfmt='b.',\n",
    "                 basefmt='b-')\n",
    "        plt.xticks([a2, b2, c],\n",
    "                   ['a={:.1e}'.format(a2),\n",
    "                    'b={:.1e}'.format(b2),\n",
    "                    'c={:.1e}'.format(c)])\n",
    "        plt.xlim(a1 - (b1-a1)/40, b1 + (b1-a1)/40)\n",
    "        plt.ylim(f_min - (f_max-f_min)/50, f_max + (f_max-f_min)/50)\n",
    "        plt.grid()\n",
    "\n",
    "    widget = interactive(draw,\n",
    "                         f=fixed(f),\n",
    "                         a=fixed(a),\n",
    "                         b=fixed(b),\n",
    "                         n=IntSlider(0, 0, 52))\n",
    "    display(widget)"
   ]
  },
  {
   "cell_type": "code",
   "execution_count": 2,
   "metadata": {},
   "outputs": [
    {
     "data": {
      "application/vnd.jupyter.widget-view+json": {
       "model_id": "a46c73c7928c4b9c89b098373864caa0",
       "version_major": 2,
       "version_minor": 0
      },
      "text/plain": [
       "interactive(children=(IntSlider(value=0, description='n', max=52), Output()), _dom_classes=('widget-interact',…"
      ]
     },
     "metadata": {},
     "output_type": "display_data"
    },
    {
     "name": "stdout",
     "output_type": "stream",
     "text": [
      "None\n"
     ]
    }
   ],
   "source": [
    "import math\n",
    "x = interactive_bisection(lambda x: math.sin(x)*x*x, -3, 0.75342)\n",
    "print(x)"
   ]
  },
  {
   "cell_type": "code",
   "execution_count": 3,
   "metadata": {},
   "outputs": [
    {
     "data": {
      "application/vnd.jupyter.widget-view+json": {
       "model_id": "6c89e03b44b9443bae44eb833631190d",
       "version_major": 2,
       "version_minor": 0
      },
      "text/plain": [
       "interactive(children=(IntSlider(value=0, description='n', max=52), Output()), _dom_classes=('widget-interact',…"
      ]
     },
     "metadata": {},
     "output_type": "display_data"
    }
   ],
   "source": [
    "interactive_bisection(lambda x: x**11, -3, 2.5)"
   ]
  },
  {
   "cell_type": "code",
   "execution_count": null,
   "metadata": {},
   "outputs": [],
   "source": []
  }
 ],
 "metadata": {
  "kernelspec": {
   "display_name": "Python 3",
   "language": "python",
   "name": "python3"
  },
  "language_info": {
   "codemirror_mode": {
    "name": "ipython",
    "version": 3
   },
   "file_extension": ".py",
   "mimetype": "text/x-python",
   "name": "python",
   "nbconvert_exporter": "python",
   "pygments_lexer": "ipython3",
   "version": "3.7.0"
  }
 },
 "nbformat": 4,
 "nbformat_minor": 2
}
