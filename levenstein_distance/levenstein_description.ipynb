{
 "cells": [
  {
   "cell_type": "markdown",
   "metadata": {},
   "source": [
    "Jakub Dworzański\n",
    "\n",
    "Korzystając z: https://youtu.be/Xxx0b7djCrs\n",
    "\n",
    "Zostawiłem całkiem sporo komentarzy, mogą okazać się zbędne"
   ]
  },
  {
   "cell_type": "code",
   "execution_count": 1,
   "metadata": {},
   "outputs": [],
   "source": [
    "# Rekurencyjnie, prościej, bardziej intuicyjnie\n",
    "def levenstein(str1, str2):\n",
    "    assert isinstance(str1, str) and isinstance(str2, str), \"Wrong type of arguments. Use strings\"\n",
    "    checked = {}    # Słownik zawierający sprawdzone dotychczas pary słów\n",
    "    def distance(a, b):\n",
    "        if (a, b) in checked:    # Sprawdzenie, czy już sprawdzano daną parę wyrazów\n",
    "            return checked[(a, b)]    # Jeżeli sprawdzono, oszczędzamy czas\n",
    "        if not a:    # Odległością dowolnego wyrazu do wyrazu pustego jest jego długość\n",
    "            return len(b)\n",
    "        if not b:\n",
    "            return len(a)\n",
    "        delete_cost = distance(a[:-1], b) + 1    # Można utożsamić z \"wypełnianiem\" \n",
    "        insert_cost = distance(a, b[:-1]) + 1    # Tabelki z filmu prezentującego algorytm\n",
    "        swap_cost = distance(a[:-1], b[:-1])\n",
    "        if a[-1] != b[-1]:    # Zamiana \"kosztuje\" 2, jeżeli poprzednie litery są różne\n",
    "            swap_cost += 2\n",
    "        cost = min(delete_cost,\n",
    "                   insert_cost,\n",
    "                   swap_cost)    # Odległością jest minimalna z tych możliwości\n",
    "        checked[(a, b)] = cost    # Zapamiętanie pośrednich wyników\n",
    "        return cost\n",
    "    return distance(str1, str2)"
   ]
  },
  {
   "cell_type": "code",
   "execution_count": 2,
   "metadata": {},
   "outputs": [],
   "source": [
    "# Podana w treści zadania funkcja do szukania słów podobnych\n",
    "def znajdź(słowo, słownik):\n",
    "    n = len(słowo)\n",
    "    słowo = słowo.lower()\n",
    "    wyniki = [(levenstein(słowo, s.lower())/max(n, len(s)), s) for s in słownik]\n",
    "    wyniki = [(d, s) for d, s in wyniki if d<=0.5]\n",
    "    wyniki.sort()\n",
    "    wyniki = [s for d, s in wyniki]\n",
    "    return wyniki"
   ]
  },
  {
   "cell_type": "code",
   "execution_count": 3,
   "metadata": {},
   "outputs": [
    {
     "data": {
      "text/plain": [
       "False"
      ]
     },
     "execution_count": 3,
     "metadata": {},
     "output_type": "execute_result"
    }
   ],
   "source": [
    "znajdź(\"kotek\", [\"koteł\", \"pieseł\", \"Franek\", \"Zenek\", \"Kot\"]) == ['koteł', 'Kot']\n",
    "# Wynik to False, bo lista po prawej nie jest posortowana"
   ]
  },
  {
   "cell_type": "code",
   "execution_count": 4,
   "metadata": {},
   "outputs": [],
   "source": [
    "# Iteracyjnie, może mniej przejrzyście, ale prawdopodobnie szybciej\n",
    "def levenstein2(str1, str2):\n",
    "    assert isinstance(str1, str) and isinstance(str2, str), \"Wrong type of arguments. Use strings\"\n",
    "    a, b = len(str1), len(str2)     # Wysokość i szerokość tabeli potrzebnej do obliczenia odległości\n",
    "    table = [[i for i in range(a+1)]]    # Przygotowanie pierwszego wiersza tabeli\n",
    "    for i in range(1, b+1):    # Przygotowanie pierwszej kolumny tabeli\n",
    "        table.append([i])\n",
    "    for i in range(1, b+1):    # W każdej kolumnie\n",
    "        for j in range(1, a+1):    # Dla każdej kolejnej komórki\n",
    "            if str1[j-1] == str2[i-1]:    # \"Cząstkową\" odległość obliczamy na podstawie trzech sąsiednich\n",
    "                table[i].append(min(table[i-1][j-1],\n",
    "                                    table[i-1][j]+1,\n",
    "                                    table[i][j-1]+1))\n",
    "            else:\n",
    "                table[i].append(min(table[i-1][j-1]+2,\n",
    "                                    table[i-1][j]+1,\n",
    "                                    table[i][j-1]+1))\n",
    "    return table[-1][-1]    # Wynikiem jest skrajny element tablicy"
   ]
  },
  {
   "cell_type": "code",
   "execution_count": 5,
   "metadata": {},
   "outputs": [],
   "source": [
    "def znajdź2(słowo, słownik):\n",
    "    n = len(słowo)\n",
    "    słowo = słowo.lower()\n",
    "    wyniki = [(levenstein2(słowo, s.lower())/max(n, len(s)), s) for s in słownik]\n",
    "    wyniki = [(d, s) for d, s in wyniki if d<=0.5]\n",
    "    wyniki.sort()\n",
    "    wyniki = [s for d, s in wyniki]\n",
    "    return wyniki"
   ]
  },
  {
   "cell_type": "code",
   "execution_count": 6,
   "metadata": {},
   "outputs": [
    {
     "name": "stdout",
     "output_type": "stream",
     "text": [
      "['Kot', 'koteł']\n",
      "['Kot', 'koteł']\n",
      "['królewna', 'król']\n",
      "['królewna', 'król']\n",
      "['polk', 'Polska', 'polski']\n",
      "['polk', 'Polska', 'polski']\n",
      "['window', 'widow']\n",
      "['window', 'widow']\n",
      "['sprawozdania', 'sprowazdanie', 'sprawa']\n",
      "['sprawozdania', 'sprowazdanie', 'sprawa']\n",
      "['pyton', 'monty python']\n",
      "['pyton', 'monty python']\n"
     ]
    }
   ],
   "source": [
    "# Wyniki szukania słów podobnych dla funkcji znajdź i znajdź2\n",
    "print(znajdź(\"kotek\", [\"koteł\", \"pieseł\", \"Franek\", \"Zenek\", \"Kot\"]))\n",
    "print(znajdź2(\"kotek\", [\"koteł\", \"pieseł\", \"Franek\", \"Zenek\", \"Kot\"]))\n",
    "print(znajdź(\"królowa\", [\"król\", \"królewna\", \"księżniczka\", \"pałac\", \"królewskie\", \"Wawel\"]))\n",
    "print(znajdź2(\"królowa\", [\"król\", \"królewna\", \"księżniczka\", \"pałac\", \"królewskie\", \"Wawel\"]))\n",
    "print(znajdź(\"Polak\", [\"Polska\", \"polski\", \"pole\", \"folklor\", \"polk\", \"cebula\"]))\n",
    "print(znajdź2(\"Polak\", [\"Polska\", \"polski\", \"pole\", \"folklor\", \"polk\", \"cebula\"]))\n",
    "print(znajdź(\"Windows\", [\"window\", 'okno', 'okna', 'winda', 'Gates', 'widow']))\n",
    "print(znajdź2(\"Windows\", [\"window\", 'okno', 'okna', 'winda', 'Gates', 'widow']))\n",
    "print(znajdź(\"sprawozdanie\", [\"sprawa\", \"sprawozdania\", \"sprowazdanie\", \"raport\", \"druk\"]))\n",
    "print(znajdź2(\"sprawozdanie\", [\"sprawa\", \"sprawozdania\", \"sprowazdanie\", \"raport\", \"druk\"]))\n",
    "print(znajdź(\"Python\", [\"typhon\", \"wąż\", \"pyton\", \"monty python\", \"pole\", \"rabarbar\"]))\n",
    "print(znajdź2(\"Python\", [\"typhon\", \"wąż\", \"pyton\", \"monty python\", \"pole\", \"rabarbar\"]))\n"
   ]
  },
  {
   "cell_type": "markdown",
   "metadata": {},
   "source": [
    "Rzut okiem na pozostałe odległości"
   ]
  },
  {
   "cell_type": "code",
   "execution_count": 7,
   "metadata": {},
   "outputs": [],
   "source": [
    "from pprint import pprint as pp"
   ]
  },
  {
   "cell_type": "code",
   "execution_count": 8,
   "metadata": {},
   "outputs": [],
   "source": [
    "def odległość(słowo, słownik):\n",
    "    n = len(słowo)\n",
    "    słowo = słowo.lower()\n",
    "    wyniki = [(levenstein2(słowo, s.lower())/max(n, len(s)), s) for s in słownik]\n",
    "    return sorted(wyniki)"
   ]
  },
  {
   "cell_type": "code",
   "execution_count": 9,
   "metadata": {},
   "outputs": [
    {
     "name": "stdout",
     "output_type": "stream",
     "text": [
      "[(0.4, 'Kot'),\n",
      " (0.4, 'koteł'),\n",
      " (1.1666666666666667, 'Franek'),\n",
      " (1.2, 'Zenek'),\n",
      " (1.5, 'pieseł')]\n",
      "[(0.375, 'królewna'),\n",
      " (0.42857142857142855, 'król'),\n",
      " (0.7, 'królewskie'),\n",
      " (1.1428571428571428, 'Wawel'),\n",
      " (1.2727272727272727, 'księżniczka'),\n",
      " (1.4285714285714286, 'pałac')]\n",
      "[(0.2, 'polk'),\n",
      " (0.5, 'Polska'),\n",
      " (0.5, 'polski'),\n",
      " (0.6, 'pole'),\n",
      " (0.8571428571428571, 'folklor'),\n",
      " (1.1666666666666667, 'cebula')]\n",
      "[(0.14285714285714285, 'window'),\n",
      " (0.2857142857142857, 'widow'),\n",
      " (0.5714285714285714, 'winda'),\n",
      " (1.0, 'okno'),\n",
      " (1.2857142857142858, 'okna'),\n",
      " (1.4285714285714286, 'Gates')]\n",
      "[(0.16666666666666666, 'sprawozdania'),\n",
      " (0.3333333333333333, 'sprowazdanie'),\n",
      " (0.5, 'sprawa'),\n",
      " (1.0, 'raport'),\n",
      " (1.1666666666666667, 'druk')]\n",
      "[(0.16666666666666666, 'pyton'),\n",
      " (0.5, 'monty python'),\n",
      " (0.6666666666666666, 'typhon'),\n",
      " (1.0, 'pole'),\n",
      " (1.5, 'wąż'),\n",
      " (1.75, 'rabarbar')]\n"
     ]
    }
   ],
   "source": [
    "pp(odległość(\"kotek\", [\"koteł\", \"pieseł\", \"Franek\", \"Zenek\", \"Kot\"]))\n",
    "pp(odległość(\"królowa\", [\"król\", \"królewna\", \"księżniczka\", \"pałac\", \"królewskie\", \"Wawel\"]))\n",
    "pp(odległość(\"Polak\", [\"Polska\", \"polski\", \"pole\", \"folklor\", \"polk\", \"cebula\"]))\n",
    "pp(odległość(\"Windows\", [\"window\", 'okno', 'okna', 'winda', 'Gates', 'widow']))\n",
    "pp(odległość(\"sprawozdanie\", [\"sprawa\", \"sprawozdania\", \"sprowazdanie\", \"raport\", \"druk\"]))\n",
    "pp(odległość(\"Python\", [\"typhon\", \"wąż\", \"pyton\", \"monty python\", \"pole\", \"rabarbar\"]))"
   ]
  },
  {
   "cell_type": "markdown",
   "metadata": {},
   "source": [
    "Szybkie porównanie czasów działania w kilku szczególnych przypadkach"
   ]
  },
  {
   "cell_type": "code",
   "execution_count": 10,
   "metadata": {},
   "outputs": [],
   "source": [
    "import time"
   ]
  },
  {
   "cell_type": "code",
   "execution_count": 11,
   "metadata": {},
   "outputs": [
    {
     "name": "stdout",
     "output_type": "stream",
     "text": [
      "1452\n",
      "Czas działania rekurencyjnie: 8.37054089999998\n",
      "1452\n",
      "Czas działania iteracyjnie: 1.4416410999999698\n"
     ]
    }
   ],
   "source": [
    "napis1 = \"asdufigbqownicszpohdfqiwuencsoidghfbqnolodimvpsaodihgqwoeiuihfnsidulghqniwidhfnsiougheoruiwnfoisduhgnieoudnfsvosiuasmhgoewricmhgismdfjcosimghfcweoirgmcsoifcgmjscifm,kwcoigjm,smiod;gim,vcewr;ojgcmwerogmc,sjdg9328gm,ucjew8rjgm,sldjgm,2983 \\4gmhcx24m ,worgmsjc;ojerug,3209jgshfdlgj29304,gm easdufigbqownicszpohdfqiwuencsoidghfbqnolodimvpsaodihgqwoeiuihfnsidulghqniwidhfnsiougheoruiwnfoisduhgnieoudnfsvosiuasmhgoewricmhgismdfjcosimghfcweoirgmcsoifcgmjscifm,kwcoigjm,smiod;gim,vcewr;ojgcmwerogmc,sjdg9328gm,ucjew8rjgm,sldjgm,2983 \\4gmhcx24m ,worgmsjc;ojerug,3209jgshfdlgj29304,gm easdufigbqownicszpohdfqiwuencsoidghfbqnolodimvpsaodihgqwoeiuihfnsidulghqniwidhfnsiougheoruiwnfoisduhgnieoudnfsvosiuasmhgoewricmhgismdfjcosimghfcweoirgmcsoifcgmjscifm,kwcoigjm,smiod;gim,vcewr;ojgcmwerogmc,sjdg9328gm,ucjew8rjgm,sldjgm,2983 \\4gmhcx24m ,worgmsjc;ojerug,3209jgshfdlgj29304,gm easdufigbqownicszpohdfqiwuencsoidghfbqnolodimvpsaodihgqwoeiuihfnsidulghqniwidhfnsiougheoruiwnfoisduhgnieoudnfsvosiuasmhgoewricmhgismdfjcosimghfcweoirgmcsoifcgmjscifm,kwcoigjm,smiod;gim,vcewr;ojgcmwerogmc,sjdg9328gm,ucjew8rjgm,sldjgm,2983 \\4gmhcx24m ,worgmsjc;ojerug,3209jgshfdlgj29304,gm e\"\n",
    "napis2 = \"bvdasofnqpodnksvoiusadjfncosiflvdmuonchskdghfmnalwedjfmowqifdjcmsigfkqw9xixdjfigaikvhscinmfjwxiecmawexfhmasiewlfhmrewg ijmogumsegu9m32jsfmgp324fmas;ag'mgjagmbdfv ergmfur;gmhfqwurgfwelhr g;we ugmwregshfsrgwe'g wergmegrjewjgmewg;hwegewrguwe'rgmwhegrweg ewrguewrgewhgweermgwergwergwmsvsgr9wmgrwebvdasofnqpodnksvoiusadjfncosiflvdmuonchskdghfmnalwedjfmowqifdjcmsigfkqw9xixdjfigaikvhscinmfjwxiecmawexfhmasiewlfhmrewg ijmogumsegu9m32jsfmgp324fmas;ag'mgjagmbdfv ergmfur;gmhfqwurgfwelhr g;we ugmwregshfsrgwe'g wergmegrjewjgmewg;hwegewrguwe'rgmwhegrweg ewrguewrgewhgweermgwergwergwmsvsgr9wmgrwebvdasofnqpodnksvoiusadjfncosiflvdmuonchskdghfmnalwedjfmowqifdjcmsigfkqw9xixdjfigaikvhscinmfjwxiecmawexfhmasiewlfhmrewg ijmogumsegu9m32jsfmgp324fmas;ag'mgjagmbdfv ergmfur;gmhfqwurgfwelhr g;we ugmwregshfsrgwe'g wergmegrjewjgmewg;hwegewrguwe'rgmwhegrweg ewrguewrgewhgweermgwergwergwmsvsgr9wmgrwebvdasofnqpodnksvoiusadjfncosiflvdmuonchskdghfmnalwedjfmowqifdjcmsigfkqw9xixdjfigaikvhscinmfjwxiecmawexfhmasiewlfhmrewg ijmogumsegu9m32jsfmgp324fmas;ag'mgjagmbdfv ergmfur;gmhfqwurgfwelhr g;we ugmwregshfsrgwe'g wergmegrjewjgmewg;hwegewrguwe'rgmwhegrweg ewrguewrgewhgweermgwergwergwmsvsgr9wmgrwe\"\n",
    "start = time.perf_counter()\n",
    "print(levenstein(napis1, napis2))\n",
    "print(\"Czas działania rekurencyjnie:\", time.perf_counter() - start)\n",
    "start = time.perf_counter()\n",
    "print(levenstein2(napis1, napis2))\n",
    "print(\"Czas działania iteracyjnie:\", time.perf_counter() - start)"
   ]
  },
  {
   "cell_type": "code",
   "execution_count": 12,
   "metadata": {},
   "outputs": [],
   "source": [
    "# Czasy nie powinny znacznie różnić się przy tej samej długości słów, ponieważ i tak trzeba \"wypełnić całą tabelkę\"\n",
    "# Dlatego testowym przypadkiem będą dwa \"słowa\" o równej długości\n",
    "def mierz_czas(alg, n, M=100):\n",
    "    napis1 = n * 'a'\n",
    "    napis2 = n * 'b'\n",
    "    def pomiar():\n",
    "        start = time.perf_counter()\n",
    "        alg(napis1, napis2)\n",
    "        return time.perf_counter() - start\n",
    "    return [pomiar() for m in range(M)]"
   ]
  },
  {
   "cell_type": "code",
   "execution_count": 13,
   "metadata": {},
   "outputs": [],
   "source": [
    "M = 100\n",
    "n = 100"
   ]
  },
  {
   "cell_type": "code",
   "execution_count": 14,
   "metadata": {},
   "outputs": [],
   "source": [
    "rek = mierz_czas(levenstein, n, M)"
   ]
  },
  {
   "cell_type": "code",
   "execution_count": 15,
   "metadata": {},
   "outputs": [],
   "source": [
    "ite = mierz_czas(levenstein2, n, M)"
   ]
  },
  {
   "cell_type": "code",
   "execution_count": 16,
   "metadata": {},
   "outputs": [],
   "source": [
    "import matplotlib.pyplot as plt"
   ]
  },
  {
   "cell_type": "code",
   "execution_count": 17,
   "metadata": {},
   "outputs": [
    {
     "data": {
      "image/png": "[encoded data removed]",
      "text/plain": [
       "<Figure size 432x288 with 1 Axes>"
      ]
     },
     "metadata": {
      "needs_background": "light"
     },
     "output_type": "display_data"
    }
   ],
   "source": [
    "plt.scatter(range(M), rek, label='rekurencyjnie')\n",
    "plt.scatter(range(M), ite, label='iteracyjnie')\n",
    "plt.legend()\n",
    "plt.ylabel(\"Czas [s]\")\n",
    "plt.show()"
   ]
  },
  {
   "cell_type": "code",
   "execution_count": 18,
   "metadata": {},
   "outputs": [],
   "source": [
    "import pandas as pd\n",
    "import numpy as np"
   ]
  },
  {
   "cell_type": "code",
   "execution_count": 19,
   "metadata": {},
   "outputs": [],
   "source": [
    "def df_from_lists(tab_rek, tab_ite):\n",
    "    dane = {}\n",
    "    dane['czas'] = np.array(tab_rek + tab_ite)\n",
    "    dane['label'] = np.array(len(tab_rek)*['rekurencyjnie'] + len(tab_ite)*['iteracyjnie'])\n",
    "    return pd.DataFrame(dane)"
   ]
  },
  {
   "cell_type": "code",
   "execution_count": 20,
   "metadata": {},
   "outputs": [],
   "source": [
    "dane = df_from_lists(rek, ite)"
   ]
  },
  {
   "cell_type": "code",
   "execution_count": 21,
   "metadata": {},
   "outputs": [],
   "source": [
    "import seaborn as sns"
   ]
  },
  {
   "cell_type": "code",
   "execution_count": 22,
   "metadata": {},
   "outputs": [
    {
     "data": {
      "text/plain": [
       "<matplotlib.axes._subplots.AxesSubplot at 0x21284887c18>"
      ]
     },
     "execution_count": 22,
     "metadata": {},
     "output_type": "execute_result"
    },
    {
     "data": {
      "image/png": "[encoded data removed]",
      "text/plain": [
       "<Figure size 432x288 with 1 Axes>"
      ]
     },
     "metadata": {
      "needs_background": "light"
     },
     "output_type": "display_data"
    }
   ],
   "source": [
    "sns.boxplot(x='label', y='czas', data=dane)"
   ]
  },
  {
   "cell_type": "code",
   "execution_count": 23,
   "metadata": {},
   "outputs": [
    {
     "name": "stderr",
     "output_type": "stream",
     "text": [
      "C:\\ProgramData\\Anaconda3\\lib\\site-packages\\scipy\\stats\\stats.py:1713: FutureWarning: Using a non-tuple sequence for multidimensional indexing is deprecated; use `arr[tuple(seq)]` instead of `arr[seq]`. In the future this will be interpreted as an array index, `arr[np.array(seq)]`, which will result either in an error or a different result.\n",
      "  return np.add.reduce(sorted[indexer] * weights, axis=axis) / sumval\n"
     ]
    },
    {
     "data": {
      "text/plain": [
       "<matplotlib.axes._subplots.AxesSubplot at 0x2128648a2b0>"
      ]
     },
     "execution_count": 23,
     "metadata": {},
     "output_type": "execute_result"
    },
    {
     "data": {
      "image/png": "[encoded data removed]",
      "text/plain": [
       "<Figure size 432x288 with 1 Axes>"
      ]
     },
     "metadata": {
      "needs_background": "light"
     },
     "output_type": "display_data"
    }
   ],
   "source": [
    "sns.violinplot(x='label', y='czas', data=dane)"
   ]
  },
  {
   "cell_type": "markdown",
   "metadata": {},
   "source": [
    "Ja jako implementację algorytmu wybrałbym iteracyjną:"
   ]
  },
  {
   "cell_type": "code",
   "execution_count": 54,
   "metadata": {},
   "outputs": [],
   "source": [
    "def levenstein(str1, str2):\n",
    "    a, b = len(str1), len(str2)\n",
    "    table = [list(range(a+1))]\n",
    "    table.extend([[i] for i in range(1, b+1)])\n",
    "    for i in range(1, b+1):\n",
    "        for j in range(1, a+1):\n",
    "            if str1[j-1] == str2[i-1]:\n",
    "                table[i].append(min(table[i-1][j-1],\n",
    "                                    table[i-1][j]+1,\n",
    "                                    table[i][j-1]+1))\n",
    "            else:\n",
    "                table[i].append(min(table[i-1][j-1]+2,\n",
    "                                    table[i-1][j]+1,\n",
    "                                    table[i][j-1]+1))\n",
    "    return table[-1][-1] "
   ]
  }
 ],
 "metadata": {
  "kernelspec": {
   "display_name": "Python 3",
   "language": "python",
   "name": "python3"
  },
  "language_info": {
   "codemirror_mode": {
    "name": "ipython",
    "version": 3
   },
   "file_extension": ".py",
   "mimetype": "text/x-python",
   "name": "python",
   "nbconvert_exporter": "python",
   "pygments_lexer": "ipython3",
   "version": "3.7.0"
  }
 },
 "nbformat": 4,
 "nbformat_minor": 2
}
